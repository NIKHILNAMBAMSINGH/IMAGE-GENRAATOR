{
 "cells": [
  {
   "cell_type": "code",
   "execution_count": 1,
   "id": "35a300b1",
   "metadata": {},
   "outputs": [],
   "source": [
    "from keras.preprocessing.image import ImageDataGenerator, load_img, img_to_array"
   ]
  },
  {
   "cell_type": "code",
   "execution_count": 2,
   "id": "74723334",
   "metadata": {},
   "outputs": [],
   "source": [
    "datagen = ImageDataGenerator(\n",
    "        rotation_range=40,\n",
    "        width_shift_range=0.2,\n",
    "        height_shift_range=0.2,\n",
    "        rescale=1./255,\n",
    "        shear_range=0.2,\n",
    "        zoom_range=0.2,\n",
    "        horizontal_flip=True,\n",
    "        fill_mode='nearest')"
   ]
  },
  {
   "cell_type": "code",
   "execution_count": 3,
   "id": "33e47e8d",
   "metadata": {},
   "outputs": [],
   "source": [
    "pic = load_img('D:/data/Python/tumor classification/Training/no_tumor/image(324).jpg')\n",
    "pic_array = img_to_array(pic)"
   ]
  },
  {
   "cell_type": "code",
   "execution_count": 4,
   "id": "6d37a637",
   "metadata": {},
   "outputs": [
    {
     "data": {
      "text/plain": [
       "<bound method Image.getpixel of <PIL.JpegImagePlugin.JpegImageFile image mode=RGB size=411x496 at 0x244267B7E50>>"
      ]
     },
     "execution_count": 4,
     "metadata": {},
     "output_type": "execute_result"
    }
   ],
   "source": [
    "pic.getpixel"
   ]
  },
  {
   "cell_type": "code",
   "execution_count": 5,
   "id": "37543728",
   "metadata": {},
   "outputs": [
    {
     "data": {
      "text/plain": [
       "(496, 411, 3)"
      ]
     },
     "execution_count": 5,
     "metadata": {},
     "output_type": "execute_result"
    }
   ],
   "source": [
    "pic_array.shape"
   ]
  },
  {
   "cell_type": "code",
   "execution_count": 6,
   "id": "6da58d82",
   "metadata": {},
   "outputs": [
    {
     "data": {
      "text/plain": [
       "(1, 496, 411, 3)"
      ]
     },
     "execution_count": 6,
     "metadata": {},
     "output_type": "execute_result"
    }
   ],
   "source": [
    "pic_array = pic_array.reshape((1,) + pic_array .shape) \n",
    "pic_array.shape"
   ]
  },
  {
   "cell_type": "code",
   "execution_count": 7,
   "id": "2bd74d04",
   "metadata": {},
   "outputs": [],
   "source": [
    "count = 0\n",
    "for batch in datagen.flow(pic_array, batch_size=5,save_to_dir=\"D:/data/Python/tumor classification/Training/new tumor/\", save_prefix='no tumor', save_format='jpeg'):\n",
    "    count += 1\n",
    "    if count > 40:\n",
    "        break"
   ]
  },
  {
   "cell_type": "code",
   "execution_count": null,
   "id": "117a623d",
   "metadata": {},
   "outputs": [],
   "source": []
  },
  {
   "cell_type": "code",
   "execution_count": null,
   "id": "6bdadcc2",
   "metadata": {},
   "outputs": [],
   "source": []
  }
 ],
 "metadata": {
  "kernelspec": {
   "display_name": "Python 3 (ipykernel)",
   "language": "python",
   "name": "python3"
  },
  "language_info": {
   "codemirror_mode": {
    "name": "ipython",
    "version": 3
   },
   "file_extension": ".py",
   "mimetype": "text/x-python",
   "name": "python",
   "nbconvert_exporter": "python",
   "pygments_lexer": "ipython3",
   "version": "3.9.7"
  }
 },
 "nbformat": 4,
 "nbformat_minor": 5
}
